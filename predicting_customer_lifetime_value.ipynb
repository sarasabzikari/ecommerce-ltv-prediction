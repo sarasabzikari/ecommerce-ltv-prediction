{
 "cells": [
  {
   "cell_type": "markdown",
   "id": "d2264f0a",
   "metadata": {},
   "source": [
    "### Predicting Customer Lifetime Value\n",
    "\n",
    "We have three datasets here:\n",
    "- customer ID dataset\n",
    "- order dataset containing customer and order ID with the order timestamp\n",
    "- payments dataset with the order ID and order value\n",
    "\n",
    "We will join these datasets together to have all relevant info in one table, and get working!"
   ]
  },
  {
   "cell_type": "code",
   "execution_count": 18,
   "id": "e1f60c7b",
   "metadata": {},
   "outputs": [],
   "source": [
    "# Importing libraries and packages \n",
    "import pandas as pd\n",
    "import numpy as np\n",
    "import seaborn as sns\n",
    "import lifetimes\n",
    "from lifetimes import ModifiedBetaGeoFitter\n",
    "import matplotlib.pyplot as plt\n",
    "%matplotlib inline\n",
    "\n",
    "\n",
    "import warnings\n",
    "warnings.filterwarnings('ignore')"
   ]
  },
  {
   "cell_type": "code",
   "execution_count": 53,
   "id": "17d22d38",
   "metadata": {},
   "outputs": [],
   "source": [
    "np.random.seed(42)\n",
    "\n",
    "import random\n",
    "random.seed(42)"
   ]
  },
  {
   "cell_type": "code",
   "execution_count": 54,
   "id": "783e9f21",
   "metadata": {},
   "outputs": [],
   "source": [
    "# Read in the data\n",
    "df1 = pd.read_csv('olist_orders_dataset.csv')\n",
    "df2 = pd.read_csv('olist_customers_dataset.csv')\n",
    "df3 = pd.read_csv('olist_order_payments_dataset.csv')\n",
    "\n",
    "# Cleaning orders dataframe\n",
    "cols = ['customer_id', 'order_id', 'order_purchase_timestamp']\n",
    "orders = df1[cols]\n",
    "orders = orders.set_index('customer_id')\n",
    "orders.drop_duplicates(inplace=True)\n",
    "\n",
    "# The same with payments dataframe \n",
    "cols = ['order_id', 'payment_value']\n",
    "payments = df3[cols]\n",
    "payments = payments.set_index('order_id')\n",
    "payments = payments.drop_duplicates()\n",
    "\n",
    "# ...and with the customers dataframe\n",
    "cols = ['customer_id', 'customer_unique_id']\n",
    "customers = df2[cols]\n",
    "customers = customers.set_index('customer_id')"
   ]
  },
  {
   "cell_type": "code",
   "execution_count": 64,
   "id": "ac869650",
   "metadata": {},
   "outputs": [
    {
     "name": "stdout",
     "output_type": "stream",
     "text": [
      "<class 'pandas.core.frame.DataFrame'>\n",
      "RangeIndex: 99441 entries, 0 to 99440\n",
      "Data columns (total 2 columns):\n",
      " #   Column       Non-Null Count  Dtype         \n",
      "---  ------       --------------  -----         \n",
      " 0   customer_id  99441 non-null  object        \n",
      " 1   order_date   99441 non-null  datetime64[ns]\n",
      "dtypes: datetime64[ns](1), object(1)\n",
      "memory usage: 1.5+ MB\n"
     ]
    },
    {
     "data": {
      "text/html": [
       "<div>\n",
       "<style scoped>\n",
       "    .dataframe tbody tr th:only-of-type {\n",
       "        vertical-align: middle;\n",
       "    }\n",
       "\n",
       "    .dataframe tbody tr th {\n",
       "        vertical-align: top;\n",
       "    }\n",
       "\n",
       "    .dataframe thead th {\n",
       "        text-align: right;\n",
       "    }\n",
       "</style>\n",
       "<table border=\"1\" class=\"dataframe\">\n",
       "  <thead>\n",
       "    <tr style=\"text-align: right;\">\n",
       "      <th></th>\n",
       "      <th>customer_id</th>\n",
       "      <th>order_date</th>\n",
       "    </tr>\n",
       "  </thead>\n",
       "  <tbody>\n",
       "    <tr>\n",
       "      <th>0</th>\n",
       "      <td>9ef432eb6251297304e76186b10a928d</td>\n",
       "      <td>2017-10-02</td>\n",
       "    </tr>\n",
       "    <tr>\n",
       "      <th>1</th>\n",
       "      <td>b0830fb4747a6c6d20dea0b8c802d7ef</td>\n",
       "      <td>2018-07-24</td>\n",
       "    </tr>\n",
       "    <tr>\n",
       "      <th>2</th>\n",
       "      <td>41ce2a54c0b03bf3443c3d931a367089</td>\n",
       "      <td>2018-08-08</td>\n",
       "    </tr>\n",
       "    <tr>\n",
       "      <th>3</th>\n",
       "      <td>f88197465ea7920adcdbec7375364d82</td>\n",
       "      <td>2017-11-18</td>\n",
       "    </tr>\n",
       "    <tr>\n",
       "      <th>4</th>\n",
       "      <td>8ab97904e6daea8866dbdbc4fb7aad2c</td>\n",
       "      <td>2018-02-13</td>\n",
       "    </tr>\n",
       "  </tbody>\n",
       "</table>\n",
       "</div>"
      ],
      "text/plain": [
       "                        customer_id order_date\n",
       "0  9ef432eb6251297304e76186b10a928d 2017-10-02\n",
       "1  b0830fb4747a6c6d20dea0b8c802d7ef 2018-07-24\n",
       "2  41ce2a54c0b03bf3443c3d931a367089 2018-08-08\n",
       "3  f88197465ea7920adcdbec7375364d82 2017-11-18\n",
       "4  8ab97904e6daea8866dbdbc4fb7aad2c 2018-02-13"
      ]
     },
     "execution_count": 64,
     "metadata": {},
     "output_type": "execute_result"
    }
   ],
   "source": [
    "# Inner join our customers and orders table \n",
    "order_log = pd.concat([orders,customers], axis=1, join='inner')\n",
    "order_log.reset_index(inplace=True)\n",
    "\n",
    "# Extract the order date from the order timestamp column\n",
    "order_log['order_purchase_timestamp'] = pd.to_datetime(order_log['order_purchase_timestamp'])\n",
    "order_log['order_date'] = order_log.order_purchase_timestamp.dt.date\n",
    "order_log['order_date'] = pd.to_datetime(order_log['order_date'])\n",
    "\n",
    "# Retain only the relevant columns\n",
    "cols = ['customer_id', 'order_date']\n",
    "order_log = order_log[cols]\n",
    "\n",
    "order_log.info()\n",
    "order_log.head()"
   ]
  },
  {
   "cell_type": "code",
   "execution_count": 65,
   "id": "268cbbb9",
   "metadata": {},
   "outputs": [
    {
     "data": {
      "text/plain": [
       "count                   99441\n",
       "unique                    634\n",
       "top       2017-11-24 00:00:00\n",
       "freq                     1176\n",
       "first     2016-09-04 00:00:00\n",
       "last      2018-10-17 00:00:00\n",
       "Name: order_date, dtype: object"
      ]
     },
     "execution_count": 65,
     "metadata": {},
     "output_type": "execute_result"
    }
   ],
   "source": [
    "# Returning the data-range of our data\n",
    "\n",
    "order_log.order_date.describe()"
   ]
  },
  {
   "cell_type": "markdown",
   "id": "7c827d8a",
   "metadata": {},
   "source": [
    "We now have a dataset with the unique customer ID, and the order date. We know that the date range of this dataset is between 4th Sep 2016 and 17th Oct 2018."
   ]
  },
  {
   "cell_type": "markdown",
   "id": "27da6a86",
   "metadata": {},
   "source": [
    "#### Creating a Recency, Frequency, Monetary (RFM) Matrix based on our transaction log\n",
    "\n",
    "The RFM matrix is created using the following components:\n",
    "- Recency (R): The time since the customer's last transaction or purchase i.e. how recently a customer has interacted with the business. Generally, customers who have made more recent purchases are considered more engaged and potentially more valuable.\n",
    "\n",
    "- Frequency (F): The no. of transactions or purchases made by a customer within a specific period. It reflects the customer's purchasing behavior and loyalty. Customers with higher frequency are often considered more valuable as they make repeated purchases.\n",
    "\n",
    "- Monetary value (M): The total $ value or revenue generated by a customer within a specific period. It indicates the customer's spending power and contribution to the business.\n",
    "\n",
    "The transaction log data is analyzed to calculate these three metrics for each customer. Each customer is then assigned a value or score for each of the RFM components based on their behavior.\n",
    "\n",
    "Note: the calibration period is the initial time period used for model estimation, where historical data is used to estimate the parameters of the CLV model. The holdout period is a separate time period that follows the calibration period, used for evaluating and validating the model's predictive accuracy by comparing the model's predictions against actual customer behavior. "
   ]
  },
  {
   "cell_type": "code",
   "execution_count": 66,
   "id": "2adc60c6",
   "metadata": {},
   "outputs": [
    {
     "data": {
      "text/html": [
       "<div>\n",
       "<style scoped>\n",
       "    .dataframe tbody tr th:only-of-type {\n",
       "        vertical-align: middle;\n",
       "    }\n",
       "\n",
       "    .dataframe tbody tr th {\n",
       "        vertical-align: top;\n",
       "    }\n",
       "\n",
       "    .dataframe thead th {\n",
       "        text-align: right;\n",
       "    }\n",
       "</style>\n",
       "<table border=\"1\" class=\"dataframe\">\n",
       "  <thead>\n",
       "    <tr style=\"text-align: right;\">\n",
       "      <th></th>\n",
       "      <th>customer_id</th>\n",
       "      <th>order_date</th>\n",
       "    </tr>\n",
       "  </thead>\n",
       "  <tbody>\n",
       "    <tr>\n",
       "      <th>0</th>\n",
       "      <td>9ef432eb6251297304e76186b10a928d</td>\n",
       "      <td>2017-10-02</td>\n",
       "    </tr>\n",
       "    <tr>\n",
       "      <th>1</th>\n",
       "      <td>b0830fb4747a6c6d20dea0b8c802d7ef</td>\n",
       "      <td>2018-07-24</td>\n",
       "    </tr>\n",
       "    <tr>\n",
       "      <th>2</th>\n",
       "      <td>41ce2a54c0b03bf3443c3d931a367089</td>\n",
       "      <td>2018-08-08</td>\n",
       "    </tr>\n",
       "    <tr>\n",
       "      <th>3</th>\n",
       "      <td>f88197465ea7920adcdbec7375364d82</td>\n",
       "      <td>2017-11-18</td>\n",
       "    </tr>\n",
       "    <tr>\n",
       "      <th>4</th>\n",
       "      <td>8ab97904e6daea8866dbdbc4fb7aad2c</td>\n",
       "      <td>2018-02-13</td>\n",
       "    </tr>\n",
       "    <tr>\n",
       "      <th>...</th>\n",
       "      <td>...</td>\n",
       "      <td>...</td>\n",
       "    </tr>\n",
       "    <tr>\n",
       "      <th>99436</th>\n",
       "      <td>39bd1228ee8140590ac3aca26f2dfe00</td>\n",
       "      <td>2017-03-09</td>\n",
       "    </tr>\n",
       "    <tr>\n",
       "      <th>99437</th>\n",
       "      <td>1fca14ff2861355f6e5f14306ff977a7</td>\n",
       "      <td>2018-02-06</td>\n",
       "    </tr>\n",
       "    <tr>\n",
       "      <th>99438</th>\n",
       "      <td>1aa71eb042121263aafbe80c1b562c9c</td>\n",
       "      <td>2017-08-27</td>\n",
       "    </tr>\n",
       "    <tr>\n",
       "      <th>99439</th>\n",
       "      <td>b331b74b18dc79bcdf6532d51e1637c1</td>\n",
       "      <td>2018-01-08</td>\n",
       "    </tr>\n",
       "    <tr>\n",
       "      <th>99440</th>\n",
       "      <td>edb027a75a1449115f6b43211ae02a24</td>\n",
       "      <td>2018-03-08</td>\n",
       "    </tr>\n",
       "  </tbody>\n",
       "</table>\n",
       "<p>99441 rows × 2 columns</p>\n",
       "</div>"
      ],
      "text/plain": [
       "                            customer_id order_date\n",
       "0      9ef432eb6251297304e76186b10a928d 2017-10-02\n",
       "1      b0830fb4747a6c6d20dea0b8c802d7ef 2018-07-24\n",
       "2      41ce2a54c0b03bf3443c3d931a367089 2018-08-08\n",
       "3      f88197465ea7920adcdbec7375364d82 2017-11-18\n",
       "4      8ab97904e6daea8866dbdbc4fb7aad2c 2018-02-13\n",
       "...                                 ...        ...\n",
       "99436  39bd1228ee8140590ac3aca26f2dfe00 2017-03-09\n",
       "99437  1fca14ff2861355f6e5f14306ff977a7 2018-02-06\n",
       "99438  1aa71eb042121263aafbe80c1b562c9c 2017-08-27\n",
       "99439  b331b74b18dc79bcdf6532d51e1637c1 2018-01-08\n",
       "99440  edb027a75a1449115f6b43211ae02a24 2018-03-08\n",
       "\n",
       "[99441 rows x 2 columns]"
      ]
     },
     "execution_count": 66,
     "metadata": {},
     "output_type": "execute_result"
    }
   ],
   "source": [
    "order_log"
   ]
  },
  {
   "cell_type": "code",
   "execution_count": 67,
   "id": "e2865773",
   "metadata": {},
   "outputs": [],
   "source": [
    "calibration_ends = '2018-06-30'\n",
    "\n",
    "from lifetimes.utils import calibration_and_holdout_data\n",
    "\n",
    "summary_cal_holdout = calibration_and_holdout_data(order_log, \n",
    "                                                   customer_id_col = 'customer_id', \n",
    "                                                   datetime_col = 'order_date', \n",
    "                                                   freq = 'D', #days\n",
    "                                        calibration_period_end=calibration_ends,\n",
    "                                        observation_period_end='2018-09-28' )\n",
    "\n",
    "\n"
   ]
  },
  {
   "cell_type": "code",
   "execution_count": 68,
   "id": "9b5cee40",
   "metadata": {},
   "outputs": [
    {
     "data": {
      "text/plain": [
       "1"
      ]
     },
     "execution_count": 68,
     "metadata": {},
     "output_type": "execute_result"
    }
   ],
   "source": [
    "summary_cal_holdout.frequency_cal.nunique()"
   ]
  },
  {
   "cell_type": "code",
   "execution_count": 69,
   "id": "f41c2881",
   "metadata": {},
   "outputs": [
    {
     "data": {
      "text/html": [
       "<div>\n",
       "<style scoped>\n",
       "    .dataframe tbody tr th:only-of-type {\n",
       "        vertical-align: middle;\n",
       "    }\n",
       "\n",
       "    .dataframe tbody tr th {\n",
       "        vertical-align: top;\n",
       "    }\n",
       "\n",
       "    .dataframe thead th {\n",
       "        text-align: right;\n",
       "    }\n",
       "</style>\n",
       "<table border=\"1\" class=\"dataframe\">\n",
       "  <thead>\n",
       "    <tr style=\"text-align: right;\">\n",
       "      <th></th>\n",
       "      <th>frequency_cal</th>\n",
       "      <th>recency_cal</th>\n",
       "      <th>T_cal</th>\n",
       "      <th>frequency_holdout</th>\n",
       "      <th>duration_holdout</th>\n",
       "    </tr>\n",
       "    <tr>\n",
       "      <th>customer_id</th>\n",
       "      <th></th>\n",
       "      <th></th>\n",
       "      <th></th>\n",
       "      <th></th>\n",
       "      <th></th>\n",
       "    </tr>\n",
       "  </thead>\n",
       "  <tbody>\n",
       "    <tr>\n",
       "      <th>00012a2ce6f8dcda20d059ce98491703</th>\n",
       "      <td>0.0</td>\n",
       "      <td>0.0</td>\n",
       "      <td>228.0</td>\n",
       "      <td>0.0</td>\n",
       "      <td>90.0</td>\n",
       "    </tr>\n",
       "    <tr>\n",
       "      <th>000161a058600d5901f007fab4c27140</th>\n",
       "      <td>0.0</td>\n",
       "      <td>0.0</td>\n",
       "      <td>349.0</td>\n",
       "      <td>0.0</td>\n",
       "      <td>90.0</td>\n",
       "    </tr>\n",
       "    <tr>\n",
       "      <th>0001fd6190edaaf884bcaf3d49edf079</th>\n",
       "      <td>0.0</td>\n",
       "      <td>0.0</td>\n",
       "      <td>487.0</td>\n",
       "      <td>0.0</td>\n",
       "      <td>90.0</td>\n",
       "    </tr>\n",
       "    <tr>\n",
       "      <th>0002414f95344307404f0ace7a26f1d5</th>\n",
       "      <td>0.0</td>\n",
       "      <td>0.0</td>\n",
       "      <td>318.0</td>\n",
       "      <td>0.0</td>\n",
       "      <td>90.0</td>\n",
       "    </tr>\n",
       "    <tr>\n",
       "      <th>000379cdec625522490c315e70c7a9fb</th>\n",
       "      <td>0.0</td>\n",
       "      <td>0.0</td>\n",
       "      <td>89.0</td>\n",
       "      <td>0.0</td>\n",
       "      <td>90.0</td>\n",
       "    </tr>\n",
       "    <tr>\n",
       "      <th>...</th>\n",
       "      <td>...</td>\n",
       "      <td>...</td>\n",
       "      <td>...</td>\n",
       "      <td>...</td>\n",
       "      <td>...</td>\n",
       "    </tr>\n",
       "    <tr>\n",
       "      <th>fffecc9f79fd8c764f843e9951b11341</th>\n",
       "      <td>0.0</td>\n",
       "      <td>0.0</td>\n",
       "      <td>93.0</td>\n",
       "      <td>0.0</td>\n",
       "      <td>90.0</td>\n",
       "    </tr>\n",
       "    <tr>\n",
       "      <th>fffeda5b6d849fbd39689bb92087f431</th>\n",
       "      <td>0.0</td>\n",
       "      <td>0.0</td>\n",
       "      <td>39.0</td>\n",
       "      <td>0.0</td>\n",
       "      <td>90.0</td>\n",
       "    </tr>\n",
       "    <tr>\n",
       "      <th>ffff42319e9b2d713724ae527742af25</th>\n",
       "      <td>0.0</td>\n",
       "      <td>0.0</td>\n",
       "      <td>17.0</td>\n",
       "      <td>0.0</td>\n",
       "      <td>90.0</td>\n",
       "    </tr>\n",
       "    <tr>\n",
       "      <th>ffffa3172527f765de70084a7e53aae8</th>\n",
       "      <td>0.0</td>\n",
       "      <td>0.0</td>\n",
       "      <td>301.0</td>\n",
       "      <td>0.0</td>\n",
       "      <td>90.0</td>\n",
       "    </tr>\n",
       "    <tr>\n",
       "      <th>ffffe8b65bbe3087b653a978c870db99</th>\n",
       "      <td>0.0</td>\n",
       "      <td>0.0</td>\n",
       "      <td>274.0</td>\n",
       "      <td>0.0</td>\n",
       "      <td>90.0</td>\n",
       "    </tr>\n",
       "  </tbody>\n",
       "</table>\n",
       "<p>86617 rows × 5 columns</p>\n",
       "</div>"
      ],
      "text/plain": [
       "                                  frequency_cal  recency_cal  T_cal  \\\n",
       "customer_id                                                           \n",
       "00012a2ce6f8dcda20d059ce98491703            0.0          0.0  228.0   \n",
       "000161a058600d5901f007fab4c27140            0.0          0.0  349.0   \n",
       "0001fd6190edaaf884bcaf3d49edf079            0.0          0.0  487.0   \n",
       "0002414f95344307404f0ace7a26f1d5            0.0          0.0  318.0   \n",
       "000379cdec625522490c315e70c7a9fb            0.0          0.0   89.0   \n",
       "...                                         ...          ...    ...   \n",
       "fffecc9f79fd8c764f843e9951b11341            0.0          0.0   93.0   \n",
       "fffeda5b6d849fbd39689bb92087f431            0.0          0.0   39.0   \n",
       "ffff42319e9b2d713724ae527742af25            0.0          0.0   17.0   \n",
       "ffffa3172527f765de70084a7e53aae8            0.0          0.0  301.0   \n",
       "ffffe8b65bbe3087b653a978c870db99            0.0          0.0  274.0   \n",
       "\n",
       "                                  frequency_holdout  duration_holdout  \n",
       "customer_id                                                            \n",
       "00012a2ce6f8dcda20d059ce98491703                0.0              90.0  \n",
       "000161a058600d5901f007fab4c27140                0.0              90.0  \n",
       "0001fd6190edaaf884bcaf3d49edf079                0.0              90.0  \n",
       "0002414f95344307404f0ace7a26f1d5                0.0              90.0  \n",
       "000379cdec625522490c315e70c7a9fb                0.0              90.0  \n",
       "...                                             ...               ...  \n",
       "fffecc9f79fd8c764f843e9951b11341                0.0              90.0  \n",
       "fffeda5b6d849fbd39689bb92087f431                0.0              90.0  \n",
       "ffff42319e9b2d713724ae527742af25                0.0              90.0  \n",
       "ffffa3172527f765de70084a7e53aae8                0.0              90.0  \n",
       "ffffe8b65bbe3087b653a978c870db99                0.0              90.0  \n",
       "\n",
       "[86617 rows x 5 columns]"
      ]
     },
     "execution_count": 69,
     "metadata": {},
     "output_type": "execute_result"
    }
   ],
   "source": [
    "summary_cal_holdout"
   ]
  },
  {
   "cell_type": "markdown",
   "id": "92e59bf6",
   "metadata": {},
   "source": [
    "The MBG/NBD model is a commonly used probabilistic model in customer analytics for estimating customer lifetime value (CLV) and predicting customer behavior. An overview of the assumptions and characteristics of the MBG/NBD model:\n",
    "\n",
    "- Transaction Process: the number of transactions made by a customer while they are active follows a Poisson process with a transaction rate λ i.e. the timing of customer transactions follows a random, memoryless process.\n",
    "\n",
    "- Heterogeneity in Transaction Rate: the model accounts for heterogeneity in transaction rates across customers. It assumes that the distribution of transaction rates across customers follows a Gamma distribution - this means that different customers have different transaction rates, capturing the natural variation in customer behavior.\n",
    "\n",
    "- Inactivity or Dropout: customers become inactive or \"drop out\" after making a transaction with a constant probability p. Inactivity implies that the customer does not make any further transactions after a certain point in time.\n",
    "\n",
    "- Heterogeneity in Dropout Probability: Similar to transaction rates, the model also considers heterogeneity in the dropout probability across customers. It assumes that the distribution of dropout probabilities across customers follows a Gamma distribution with parameters a and b. This captures the variation in the likelihood of customers becoming inactive.\n",
    "\n",
    "- Independence of Transaction Rate and Dropout Probability: the transaction rate λ and the dropout probability p are independent of each other across customers. This means that the two characteristics vary independently, allowing for different patterns of customer behavior."
   ]
  },
  {
   "cell_type": "code",
   "execution_count": 26,
   "id": "0f75fad5",
   "metadata": {},
   "outputs": [
    {
     "name": "stdout",
     "output_type": "stream",
     "text": [
      "Optimization terminated successfully.\n",
      "         Current function value: 0.000000\n",
      "         Iterations: 27\n",
      "         Function evaluations: 28\n",
      "         Gradient evaluations: 28\n"
     ]
    },
    {
     "data": {
      "text/plain": [
       "<lifetimes.ModifiedBetaGeoFitter: fitted with 86617 subjects, a: 0.00, alpha: 0.47, b: 0.00, r: 0.00>"
      ]
     },
     "execution_count": 26,
     "metadata": {},
     "output_type": "execute_result"
    }
   ],
   "source": [
    "mbgnbd = ModifiedBetaGeoFitter(penalizer_coef=0.01)\n",
    "mbgnbd.fit(summary_cal_holdout['frequency_cal'], \n",
    "        summary_cal_holdout['recency_cal'], \n",
    "        summary_cal_holdout['time_cal'],\n",
    "       verbose=True)"
   ]
  },
  {
   "cell_type": "code",
   "execution_count": 27,
   "id": "45e08274",
   "metadata": {},
   "outputs": [
    {
     "name": "stdout",
     "output_type": "stream",
     "text": [
      "<lifetimes.ModifiedBetaGeoFitter: fitted with 86617 subjects, a: 0.00, alpha: 0.47, b: 0.00, r: 0.00>\n"
     ]
    }
   ],
   "source": [
    "print(mbgnbd)"
   ]
  },
  {
   "cell_type": "code",
   "execution_count": 28,
   "id": "6acc593b",
   "metadata": {},
   "outputs": [],
   "source": [
    "t = 90 # days to predict in the future \n",
    "summary_cal_holdout['predicted_purchases'] = mbgnbd.conditional_expected_number_of_purchases_up_to_time(t, \n",
    "                                                                                      summary_cal_holdout['frequency_cal'], \n",
    "                                                                                      summary_cal_holdout['recency_cal'], \n",
    "                                                                                      summary_cal_holdout['time_cal'])\n",
    "\n",
    "summary_cal_holdout['p_alive'] = mbgnbd.conditional_probability_alive(summary_cal_holdout['frequency_cal'], \n",
    "                                                                         summary_cal_holdout['recency_cal'], \n",
    "                                                                         summary_cal_holdout['time_cal'])\n",
    "summary_cal_holdout['p_alive'] = np.round(summary_cal_holdout['p_alive'] / summary_cal_holdout['p_alive'].max(), 2)"
   ]
  },
  {
   "cell_type": "code",
   "execution_count": 29,
   "id": "3f3583d6",
   "metadata": {},
   "outputs": [
    {
     "data": {
      "text/html": [
       "<div>\n",
       "<style scoped>\n",
       "    .dataframe tbody tr th:only-of-type {\n",
       "        vertical-align: middle;\n",
       "    }\n",
       "\n",
       "    .dataframe tbody tr th {\n",
       "        vertical-align: top;\n",
       "    }\n",
       "\n",
       "    .dataframe thead th {\n",
       "        text-align: right;\n",
       "    }\n",
       "</style>\n",
       "<table border=\"1\" class=\"dataframe\">\n",
       "  <thead>\n",
       "    <tr style=\"text-align: right;\">\n",
       "      <th>customer_id</th>\n",
       "      <th>d052dd92c5be64d0b7ead6ee23dad19d</th>\n",
       "      <th>87013b240790484b45271bfb0eb96904</th>\n",
       "    </tr>\n",
       "  </thead>\n",
       "  <tbody>\n",
       "    <tr>\n",
       "      <th>frequency_cal</th>\n",
       "      <td>0.000000e+00</td>\n",
       "      <td>0.000000e+00</td>\n",
       "    </tr>\n",
       "    <tr>\n",
       "      <th>recency_cal</th>\n",
       "      <td>0.000000e+00</td>\n",
       "      <td>0.000000e+00</td>\n",
       "    </tr>\n",
       "    <tr>\n",
       "      <th>time_cal</th>\n",
       "      <td>1.230000e+02</td>\n",
       "      <td>4.700000e+01</td>\n",
       "    </tr>\n",
       "    <tr>\n",
       "      <th>frequency_holdout</th>\n",
       "      <td>0.000000e+00</td>\n",
       "      <td>0.000000e+00</td>\n",
       "    </tr>\n",
       "    <tr>\n",
       "      <th>duration_holdout</th>\n",
       "      <td>9.000000e+01</td>\n",
       "      <td>9.000000e+01</td>\n",
       "    </tr>\n",
       "    <tr>\n",
       "      <th>predicted_purchases</th>\n",
       "      <td>2.684382e-25</td>\n",
       "      <td>6.990024e-25</td>\n",
       "    </tr>\n",
       "    <tr>\n",
       "      <th>p_alive</th>\n",
       "      <td>1.000000e+00</td>\n",
       "      <td>1.000000e+00</td>\n",
       "    </tr>\n",
       "  </tbody>\n",
       "</table>\n",
       "</div>"
      ],
      "text/plain": [
       "customer_id          d052dd92c5be64d0b7ead6ee23dad19d  \\\n",
       "frequency_cal                            0.000000e+00   \n",
       "recency_cal                              0.000000e+00   \n",
       "time_cal                                 1.230000e+02   \n",
       "frequency_holdout                        0.000000e+00   \n",
       "duration_holdout                         9.000000e+01   \n",
       "predicted_purchases                      2.684382e-25   \n",
       "p_alive                                  1.000000e+00   \n",
       "\n",
       "customer_id          87013b240790484b45271bfb0eb96904  \n",
       "frequency_cal                            0.000000e+00  \n",
       "recency_cal                              0.000000e+00  \n",
       "time_cal                                 4.700000e+01  \n",
       "frequency_holdout                        0.000000e+00  \n",
       "duration_holdout                         9.000000e+01  \n",
       "predicted_purchases                      6.990024e-25  \n",
       "p_alive                                  1.000000e+00  "
      ]
     },
     "metadata": {},
     "output_type": "display_data"
    }
   ],
   "source": [
    "display(summary_cal_holdout.sample(2).T)"
   ]
  },
  {
   "cell_type": "code",
   "execution_count": 30,
   "id": "b656c22d",
   "metadata": {},
   "outputs": [
    {
     "data": {
      "image/png": "[encoded data removed]",
      "text/plain": [
       "<Figure size 640x480 with 1 Axes>"
      ]
     },
     "metadata": {},
     "output_type": "display_data"
    }
   ],
   "source": [
    "from lifetimes.plotting import plot_period_transactions\n",
    "ax = plot_period_transactions(mbgnbd, max_frequency=7)\n",
    "ax.set_yscale('log')\n",
    "sns.despine();"
   ]
  },
  {
   "cell_type": "code",
   "execution_count": null,
   "id": "9704b369",
   "metadata": {},
   "outputs": [],
   "source": []
  },
  {
   "cell_type": "code",
   "execution_count": null,
   "id": "ea16e85d",
   "metadata": {},
   "outputs": [],
   "source": []
  }
 ],
 "metadata": {
  "kernelspec": {
   "display_name": "Python 3 (ipykernel)",
   "language": "python",
   "name": "python3"
  },
  "language_info": {
   "codemirror_mode": {
    "name": "ipython",
    "version": 3
   },
   "file_extension": ".py",
   "mimetype": "text/x-python",
   "name": "python",
   "nbconvert_exporter": "python",
   "pygments_lexer": "ipython3",
   "version": "3.9.7"
  }
 },
 "nbformat": 4,
 "nbformat_minor": 5
}
